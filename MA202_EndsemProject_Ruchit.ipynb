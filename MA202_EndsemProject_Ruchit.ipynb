{
  "nbformat": 4,
  "nbformat_minor": 0,
  "metadata": {
    "colab": {
      "provenance": []
    },
    "kernelspec": {
      "name": "python3",
      "display_name": "Python 3"
    },
    "language_info": {
      "name": "python"
    }
  },
  "cells": [
    {
      "cell_type": "code",
      "execution_count": 29,
      "metadata": {
        "id": "EVeQV1WfRQvU"
      },
      "outputs": [],
      "source": [
        "import numpy as np\n",
        "import math \n",
        "import random\n",
        "import matplotlib.pyplot as plt"
      ]
    },
    {
      "cell_type": "code",
      "source": [
        "def G(theta):\n",
        "  accl = -10*((math.sin(math.radians(theta)))**2 + 0.6*(math.sin((math.radians(theta))**2)) + 0.5*math.sin(math.radians(theta))) - 0.12\n",
        "  #accl = -3*math.sin(theta)\n",
        "  return accl"
      ],
      "metadata": {
        "id": "nPGa0TPWReCB"
      },
      "execution_count": 30,
      "outputs": []
    },
    {
      "cell_type": "code",
      "source": [
        "G(0)"
      ],
      "metadata": {
        "colab": {
          "base_uri": "https://localhost:8080/"
        },
        "id": "hpssqQzgTLRn",
        "outputId": "9de2da44-ddb6-4aee-d35d-0450e1ff706a"
      },
      "execution_count": 31,
      "outputs": [
        {
          "output_type": "execute_result",
          "data": {
            "text/plain": [
              "-0.12"
            ]
          },
          "metadata": {},
          "execution_count": 31
        }
      ]
    },
    {
      "cell_type": "code",
      "source": [
        "G(30)"
      ],
      "metadata": {
        "colab": {
          "base_uri": "https://localhost:8080/"
        },
        "id": "5B9cYKp9tcKh",
        "outputId": "678d9080-c506-4c52-cb91-f8d096c47586"
      },
      "execution_count": 32,
      "outputs": [
        {
          "output_type": "execute_result",
          "data": {
            "text/plain": [
              "-6.744405459860116"
            ]
          },
          "metadata": {},
          "execution_count": 32
        }
      ]
    },
    {
      "cell_type": "code",
      "source": [
        "def G1(theta):\n",
        "  accl = -10*((math.sin(math.radians(theta)))**2 + (0.6+random.randrange(0,10,1)/100)*(math.sin((math.radians(theta))**2)) + 0.5*math.sin(math.radians(theta)) - math.sin(((math.radians(theta))**3)/100)) - (random.randrange(0,20,1))/100\n",
        "  #accl = -3*math.sin(theta) + random.randrange(0,20)/100\n",
        "  return accl"
      ],
      "metadata": {
        "id": "wieZknrnTiwF"
      },
      "execution_count": 33,
      "outputs": []
    },
    {
      "cell_type": "code",
      "source": [
        "G1(30)"
      ],
      "metadata": {
        "colab": {
          "base_uri": "https://localhost:8080/"
        },
        "id": "LicIisfOc8lX",
        "outputId": "31ac29d0-e85d-4956-815a-e219b8b90202"
      },
      "execution_count": 34,
      "outputs": [
        {
          "output_type": "execute_result",
          "data": {
            "text/plain": [
              "-6.94663810171565"
            ]
          },
          "metadata": {},
          "execution_count": 34
        }
      ]
    },
    {
      "cell_type": "code",
      "source": [
        "def dG(theta):\n",
        "  daccl = -10*(2*math.sin(math.radians(theta))*math.cos(math.radians(theta)) + 0.6*math.sin((math.radians(theta))**2)*math.cos((math.radians(theta))**2)*2*(math.radians(theta)) + 0.5*math.cos(math.radians(theta)))\n",
        "  return daccl"
      ],
      "metadata": {
        "id": "C85S_vzac-5x"
      },
      "execution_count": 35,
      "outputs": []
    },
    {
      "cell_type": "code",
      "source": [
        "dG(5)"
      ],
      "metadata": {
        "colab": {
          "base_uri": "https://localhost:8080/"
        },
        "id": "IiS7Md2Xfr-O",
        "outputId": "07a59c03-8079-42da-aee2-cffca193710c"
      },
      "execution_count": 36,
      "outputs": [
        {
          "output_type": "execute_result",
          "data": {
            "text/plain": [
              "-6.725429824198796"
            ]
          },
          "metadata": {},
          "execution_count": 36
        }
      ]
    },
    {
      "cell_type": "code",
      "source": [
        "def Newton(theta,error,accelaration):\n",
        "  if abs(G(theta)-accelaration) <= error:\n",
        "    return theta\n",
        "  else:\n",
        "    while True:\n",
        "      theta_new = theta - ((G(theta)-accelaration)/(dG(theta)-accelaration))\n",
        "      theta = theta_new\n",
        "      if abs(G(theta_new)-accelaration) <= error:\n",
        "        break\n",
        "    return(abs(theta_new))"
      ],
      "metadata": {
        "id": "6i8KCJzGftKU"
      },
      "execution_count": 37,
      "outputs": []
    },
    {
      "cell_type": "code",
      "source": [
        "def real_vel(accl,s,v1):\n",
        "  v_square = (v1**2 + 2*accl*s)\n",
        "  if v_square >= 0:\n",
        "    v_root = v_square**0.5\n",
        "  else:\n",
        "    v_root = 0\n",
        "  return v_root "
      ],
      "metadata": {
        "id": "evnT5ys6hMdV"
      },
      "execution_count": 38,
      "outputs": []
    },
    {
      "cell_type": "code",
      "source": [
        "real_vel(G1(Newton(1,0.0001,-0.45)),0.2,30)"
      ],
      "metadata": {
        "colab": {
          "base_uri": "https://localhost:8080/"
        },
        "id": "Cd7vMwFXhhp3",
        "outputId": "523b4ccb-e21c-4cbe-8cb4-f674f1081db2"
      },
      "execution_count": 39,
      "outputs": [
        {
          "output_type": "execute_result",
          "data": {
            "text/plain": [
              "29.997734020052246"
            ]
          },
          "metadata": {},
          "execution_count": 39
        }
      ]
    },
    {
      "cell_type": "code",
      "source": [
        "def lagrangian(x,n,list_x,list_y):\n",
        "  f = 0\n",
        "  for i in range(n+1):\n",
        "    f_ = list_y[i]\n",
        "    for j in range(n+1):\n",
        "      if j != i:\n",
        "        f_ = f_*((x-list_x[j])/(list_x[i]-list_x[j]))\n",
        "    f += f_\n",
        "  return f"
      ],
      "metadata": {
        "id": "ZkDEl8aSi0f3"
      },
      "execution_count": 40,
      "outputs": []
    },
    {
      "cell_type": "code",
      "source": [
        "def dvel(vel_list,interval):\n",
        "  return (vel_list[len(vel_list)-1] - vel_list[len(vel_list)-2])/interval"
      ],
      "metadata": {
        "id": "Jg8-PYudliGv"
      },
      "execution_count": 41,
      "outputs": []
    },
    {
      "cell_type": "code",
      "source": [
        "# Function to find the product term\n",
        "def proterm(i, value, x):\n",
        "\tpro = 1;\n",
        "\tfor j in range(i):\n",
        "\t\tpro = pro * (value - x[j]);\n",
        "\treturn pro;\n",
        "\n",
        "# Function for calculating\n",
        "# divided difference table\n",
        "def dividedDiffTable(x, y, n):\n",
        "\n",
        "\tfor i in range(1, n):\n",
        "\t\tfor j in range(n - i):\n",
        "\t\t\ty[j][i] = ((y[j][i - 1] - y[j + 1][i - 1]) /\n",
        "\t\t\t\t\t\t\t\t\t(x[j] - x[i + j]));\n",
        "\treturn y;\n",
        "\n",
        "# Function for applying Newton's\n",
        "# divided difference formula\n",
        "def applyFormula(value, x, y, n):\n",
        "\n",
        "\tsum = y[0][0];\n",
        "\n",
        "\tfor i in range(1, n):\n",
        "\t\tsum = sum + (proterm(i, value, x) * y[0][i]);\n",
        "\t\n",
        "\treturn sum;\n",
        "\n",
        "# Function for displaying divided\n",
        "# difference table\n",
        "def printDiffTable(y, n):\n",
        "\n",
        "\tfor i in range(n):\n",
        "\t\tfor j in range(n - i):\n",
        "\t\t\tprint(round(y[i][j], 4), \"\\t\",\n",
        "\t\t\t\t\t\t\tend = \" \");\n",
        "\n",
        "\t\tprint(\"\");\n",
        "\n",
        "# calculating divided difference table\n",
        "# y=dividedDiffTable(x, y, n)\n",
        "\n",
        "\n",
        "\n",
        "# Driver Code\n",
        "\n",
        "# # number of inputs given\n",
        "# n = len(dist_list)\n",
        "# # Newton divided difference formula\n",
        "# x=dist_list[(len(dist_list)-2):]\n",
        "# y=[len(dist_list)][len(dist_list)]\n",
        "# y_in=[]\n",
        "# for i in range((len(dist_list)-2)):\n",
        "#   y[i][0]=real_vel_list[i]\n",
        "#   y_in.append(real_vel_list[i])\n",
        "\n"
      ],
      "metadata": {
        "id": "vLl5P61JHoNT"
      },
      "execution_count": 42,
      "outputs": []
    },
    {
      "cell_type": "code",
      "source": [
        "initial_vel = 10\n",
        "initial_dist = 1000\n",
        "dist_int = 1\n",
        "final_vel = 0\n",
        "final_dist = 0\n",
        "n=3\n",
        "dist = initial_dist\n",
        "vel = initial_vel\n",
        "pred_vel_list = [initial_vel]\n",
        "real_vel_list = [initial_vel,final_vel]\n",
        "dist_list = [initial_dist,final_dist]\n",
        "error = 0\n",
        "thetas = []\n",
        "y = [[0 for i in range(110)] \n",
        "        for j in range(110)]; \n",
        "\n",
        "\n",
        "while True:\n",
        "  dist -= dist_int\n",
        "  if dist <= final_dist:\n",
        "    print('velocity error = ' + str(error))\n",
        "    print('absolute velocity error = ' + str(real_v-final_vel))\n",
        "    break\n",
        "  #pred_vel = lagrangian(dist,1,dist_list[(len(dist_list)-2):],real_vel_list[(len(real_vel_list)-2):])\n",
        "  #pred_vel = lagrangian(dist,(len(real_vel_list)-1),dist_list,real_vel_list)\n",
        "  for i in range((len(dist_list))):\n",
        "    y[i][0]=real_vel_list[i]\n",
        "  pred_vel=applyFormula(dist, dist_list, y, n) \n",
        "  y=dividedDiffTable(dist_list, y, len(dist_list))\n",
        "  #print(pred_vel)\n",
        "  pred_vel_list.append(pred_vel)\n",
        "\n",
        "  accl = abs(pred_vel)*(dvel(pred_vel_list,dist_int))\n",
        "  #print(accl)\n",
        "  if accl >= G(0):\n",
        "    accl = G(0)\n",
        "    #theta = 0\n",
        "  if accl <= G(30):\n",
        "    accl = G(30)\n",
        "    #theta = 30\n",
        "  theta = Newton(0.1,0.001,accl)\n",
        "  if theta <= 0: \n",
        "    theta = 0\n",
        "  if theta >= 30:\n",
        "    theta = 30\n",
        "  thetas.append(theta)\n",
        "  #print(theta)\n",
        "  real_accl = G1(theta)\n",
        "  real_vel_list.remove(final_vel)\n",
        "  real_v = real_vel(real_accl,dist_int,real_vel_list[len(real_vel_list)-2])\n",
        "  if real_v <= final_vel:\n",
        "    real_vel_list.append(real_v)\n",
        "    print('dist_error = ' + str(dist_list[len(dist_list)-2]))\n",
        "    break\n",
        "  real_vel_list.append(real_v)\n",
        "  real_vel_list.append(final_vel)\n",
        "  dist_list.remove(final_dist)\n",
        "  dist_list.append(dist)\n",
        "  dist_list.append(final_dist)\n",
        "  error = real_v - pred_vel\n",
        "print('thetas:')\n",
        "print(thetas)"
      ],
      "metadata": {
        "colab": {
          "base_uri": "https://localhost:8080/"
        },
        "id": "Taer8B2Sh5lN",
        "outputId": "a7c25422-f31d-4f9a-a272-1f778feda02b"
      },
      "execution_count": 45,
      "outputs": [
        {
          "output_type": "stream",
          "name": "stdout",
          "text": [
            "dist_error = 941\n",
            "thetas:\n",
            "[0.011282150202157908, 0.8596014458969923, 0.011282150202157908, 5.201475994819714, 3.5478258074611055, 4.358426304148917, 5.108198169379961, 5.803925717559352, 6.450570828902018, 7.051965986661876, 7.610846388855265, 8.129247489210567, 8.608516759886884, 9.050020493307382, 9.454325835306499, 9.82185902415055, 10.152651698450788, 10.44694414898467, 10.70434165109699, 10.924546439046976, 11.106651045250851, 11.250131155071642, 11.353712808875477, 11.416484115208275, 11.436899674790991, 11.41331768802409, 11.34382794957128, 11.226351041333581, 11.058021583473613, 10.836097005466419, 10.556876079506102, 10.216127946387662, 9.808912483944786, 9.328745344840465, 8.76823347459286, 8.11750388823358, 7.363759328651764, 6.490324976635899, 5.473102092623868, 4.276664185496028, 2.8438426445973475, 1.0702746430011352, 0.011282150202157908, 0.8700044179927818, 3.058801828224411, 5.023177652732435, 6.851350649475576, 8.589418731167246, 10.265707124143004, 11.898340639718562, 13.500292908389332, 15.080896377647825, 16.647704711163414, 18.206274481622934, 19.76155425719887, 21.317679204469613, 22.878250671333657, 30, 30, 30]\n"
          ]
        }
      ]
    },
    {
      "cell_type": "code",
      "source": [
        "len(thetas)"
      ],
      "metadata": {
        "id": "MCcBFzX6HXSj",
        "colab": {
          "base_uri": "https://localhost:8080/"
        },
        "outputId": "9ab0260f-3ae9-4e8e-c584-a53273c33d30"
      },
      "execution_count": 46,
      "outputs": [
        {
          "output_type": "execute_result",
          "data": {
            "text/plain": [
              "60"
            ]
          },
          "metadata": {},
          "execution_count": 46
        }
      ]
    },
    {
      "cell_type": "code",
      "source": [
        "x=list(range(1, len(thetas)+1))\n",
        "plt.plot(x, thetas)\n",
        "plt.xlabel('Iterations')\n",
        "plt.ylabel('Theta')"
      ],
      "metadata": {
        "id": "jauDtez7qfV1",
        "colab": {
          "base_uri": "https://localhost:8080/",
          "height": 296
        },
        "outputId": "68ec3c99-d201-4331-f4e2-f0840a07e46f"
      },
      "execution_count": 47,
      "outputs": [
        {
          "output_type": "execute_result",
          "data": {
            "text/plain": [
              "Text(0, 0.5, 'Theta')"
            ]
          },
          "metadata": {},
          "execution_count": 47
        },
        {
          "output_type": "display_data",
          "data": {
            "text/plain": [
              "<Figure size 432x288 with 1 Axes>"
            ],
            "image/png": "[encoded data removed]"
          },
          "metadata": {
            "needs_background": "light"
          }
        }
      ]
    }
  ]
}